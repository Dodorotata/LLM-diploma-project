{
 "cells": [
  {
   "cell_type": "markdown",
   "metadata": {},
   "source": [
    "# Outlines"
   ]
  },
  {
   "cell_type": "markdown",
   "metadata": {},
   "source": [
    "https://github.com/outlines-dev/outlines \\\n",
    "https://outlines-dev.github.io/outlines/"
   ]
  },
  {
   "cell_type": "markdown",
   "metadata": {},
   "source": [
    "content\n",
    "conclusions\n",
    "---\n",
    "---\n"
   ]
  },
  {
   "cell_type": "code",
   "execution_count": 1,
   "metadata": {},
   "outputs": [],
   "source": [
    "from outlines import models, generate\n",
    "from llama_cpp import Llama"
   ]
  },
  {
   "cell_type": "code",
   "execution_count": 2,
   "metadata": {},
   "outputs": [
    {
     "name": "stderr",
     "output_type": "stream",
     "text": [
      "ggml_cuda_init: GGML_CUDA_FORCE_MMQ:   no\n",
      "ggml_cuda_init: CUDA_USE_TENSOR_CORES: yes\n",
      "ggml_cuda_init: found 1 CUDA devices:\n",
      "  Device 0: NVIDIA GeForce RTX 4070 Ti, compute capability 8.9, VMM: yes\n"
     ]
    }
   ],
   "source": [
    "llm = Llama(\"/home/dorota/models/mistral-7b-instruct-v0.2.Q6_K.gguf\", n_gpu_layers=10, n_ctx=0, verbose=False)\n",
    "model = models.LlamaCpp(llm) "
   ]
  },
  {
   "cell_type": "code",
   "execution_count": 8,
   "metadata": {},
   "outputs": [
    {
     "name": "stderr",
     "output_type": "stream",
     "text": [
      "Loading checkpoint shards: 100%|██████████| 2/2 [00:05<00:00,  2.62s/it]\n"
     ]
    }
   ],
   "source": [
    "model_mistral = models.transformers(\"mistralai/Mistral-7B-v0.1\")"
   ]
  },
  {
   "cell_type": "code",
   "execution_count": null,
   "metadata": {},
   "outputs": [],
   "source": [
    "########## försöker få över modellen till GPU?????????????????????????????????????\n",
    "import torch\n",
    "model_mistral_quant = models.transformers(\"mistralai/Mistral-7B-v0.1\",\n",
    "                                    device='cuda', ############### CUDA out of memory error\n",
    "                                    model_kwargs={\"torch_dtype\": torch.float16,\n",
    "                                                    \"quantization_config\": {\"load_in_4bit\": True}})\n",
    "\n",
    "# pip install accelerate\n",
    "# pip install bitsandbytes"
   ]
  },
  {
   "cell_type": "markdown",
   "metadata": {},
   "source": [
    "????????? output ok if age: int is removed or if code run with mistralai/Mistral-7B-v0.1???????????"
   ]
  },
  {
   "cell_type": "code",
   "execution_count": null,
   "metadata": {},
   "outputs": [],
   "source": [
    "from pydantic import BaseModel, Field\n",
    "class User(BaseModel):\n",
    "    first_name: str\n",
    "    last_name: str\n",
    "    # age: int\n",
    "\n",
    "generator = generate.json(model, User)\n",
    "\n",
    "result = generator(\n",
    "    \"\"\"Based on user information create a user profile with the fields first_name, last_name.\n",
    "    User information is: Jane Doe 10\"\"\"\n",
    ")\n",
    "\n",
    "print(result)"
   ]
  },
  {
   "cell_type": "code",
   "execution_count": null,
   "metadata": {},
   "outputs": [],
   "source": [
    "from pydantic import BaseModel\n",
    "from outlines import models, generate\n",
    "\n",
    "\n",
    "class User(BaseModel):\n",
    "    name: str\n",
    "    last_name: str\n",
    "    id: int\n",
    "\n",
    "generator = generate.json(model_mistral, User)\n",
    "result = generator(\n",
    "    \"Create a user profile with the fields name, last_name and id.  User information is: Jane Doe 123\"\n",
    ")\n",
    "print(dict(result))"
   ]
  },
  {
   "cell_type": "code",
   "execution_count": null,
   "metadata": {},
   "outputs": [],
   "source": [
    "dict(result)"
   ]
  },
  {
   "cell_type": "markdown",
   "metadata": {},
   "source": [
    "## Below can only be run with model_mistral"
   ]
  },
  {
   "cell_type": "markdown",
   "metadata": {},
   "source": [
    "with Pydantic and own text"
   ]
  },
  {
   "cell_type": "code",
   "execution_count": 9,
   "metadata": {},
   "outputs": [],
   "source": [
    "from pypdf import PdfReader \n",
    "  \n",
    "reader = PdfReader('/home/dorota/LLM-diploma-project/00_concept_tests/data/40001_2023_Article_1364.pdf') \n",
    "num_pages = len(reader.pages)\n",
    "TEXT = \"\"\n",
    "for page_num in range(1): #change to range(num_pages) for whole document\n",
    "    page = reader.pages[page_num]  \n",
    "    TEXT += page.extract_text()"
   ]
  },
  {
   "cell_type": "code",
   "execution_count": null,
   "metadata": {},
   "outputs": [],
   "source": [
    "from pydantic import BaseModel, Field\n",
    "from typing import List\n",
    "\n",
    "class Metadata(BaseModel):\n",
    "    title: str = Field(..., description=\"extract title from article\")\n",
    "    authors: str = Field(..., description=\"extract authors from article\")\n",
    "    pub_year: int = Field(..., description=\"extract publication year\")\n",
    "    key_words: str = Field(..., description=\"generate 5 new key words based on content in Abstract\")\n",
    "    summary: str = Field(..., description=\"generate summary in 3 sentences\")\n",
    "    research_area: str = Field(..., description=\"generate 1 main research area described in article\")\n",
    "    quality: str = Field(..., description=\"select one value from provided examples to define quality of article\", examples=['GOOD', 'BAD', 'EXCELLENT', 'CAN NOT SET QUALITY'])\n",
    "    quality_reason: str = Field(..., description=\"describe reason for chosen quality_score in 1 sentece\")\n",
    "\n",
    "generator = generate.json(model_mistral, Metadata)\n",
    "prompt = \"\"\"\n",
    "                Article is delimited by (start) and (stop):\n",
    "                (start)\n",
    "                {{TEXT}}\n",
    "                (stop)\n",
    "                Generate output based on the Article corresponding to the Metadata class\n",
    "                \"\"\"\n",
    "                \n",
    "result = generator(prompt)\n",
    "\n",
    "dict(result)\n",
    "\n",
    "#---------------------------------------------------------------------------------\n",
    "# NOTE output has correc headings but content is not based on article provided\n",
    "# {'title': 'Document title',\n",
    " #'authors': 'John J. Nixon, John W. Inplace,David R. None, and Stephen M. S. oninc',\n",
    " #'pub_year': 2016,\n",
    " #'key_words': 'text',\n",
    " #'summary': 'This is a rjohnsntroducttory document how to use and develop OpenCadflow environment',\n",
    " #'research_area': 'science.agriculture',\n",
    " #'quality': 'submitted_document',\n",
    " #'quality_reason': 'Copy from other publications without changes'}"
   ]
  },
  {
   "cell_type": "markdown",
   "metadata": {},
   "source": [
    "with prompt where field name and description are manually inserted into the prompt from Pydantic class"
   ]
  },
  {
   "cell_type": "code",
   "execution_count": null,
   "metadata": {},
   "outputs": [],
   "source": [
    "import outlines\n",
    "import outlines.generate\n",
    "import outlines.generate.json\n",
    "from pydantic import BaseModel, Field\n",
    "from typing import List\n",
    "\n",
    "class Metadata(BaseModel):\n",
    "    title: str = Field(..., description=\"extract title from article\")\n",
    "    authors: str = Field(..., description=\"extract authors from article\")\n",
    "    pub_year: int = Field(..., description=\"extract publication year\")\n",
    "    key_words: str = Field(..., description=\"generate 5 new key words based on content in Abstract\")\n",
    "    summary: str = Field(..., description=\"generate summary in 3 sentences\")\n",
    "    research_area: str = Field(..., description=\"generate 1 main research area described in article\")\n",
    "    quality: str = Field(..., description=\"select one value from provided examples to define quality of article\", examples=['GOOD', 'BAD', 'EXCELLENT', 'CAN NOT SET QUALITY'])\n",
    "    quality_reason: str = Field(..., description=\"describe reason for chosen quality_score in 1 sentece\")\n",
    "\n",
    "@outlines.prompt\n",
    "def get_metadata(text):\n",
    "    \"\"\"Article is delimited by (start) and (stop):\n",
    "    (start)\n",
    "    {{text}}\n",
    "    (stop)\n",
    "    Based on the article content, generate fields listed below according to their descriptions. \n",
    "    title: description=\"extract title from article\"\n",
    "    authors: description=\"extract authors from article\"\n",
    "    pub_year: description=\"extract publication year\"\n",
    "    key_words: description=\"generate 5 new key words based on content in Abstract\"\n",
    "    summary: description=\"generate summary in 3 sentences\"\n",
    "    research_area: description=\"generate 1 main research area described in article\"\n",
    "    quality: description=\"select one value from ['GOOD', 'BAD', 'EXCELLENT', 'CAN NOT SET QUALITY'] to define quality of article\"\n",
    "    quality_reason: description=\"describe reason for chosen quality_score in 1 sentece\"\n",
    "    \"\"\"\n",
    "prompt = get_metadata(TEXT)\n",
    "generator = outlines.generate.json(model_mistral, Metadata)\n",
    "result = generator(prompt)\n",
    "\n",
    "result.model_dump()\n",
    "\n",
    "#------------------------------------------------------------------------------------------------------------------------------\n",
    "# NOTE good quality output\n",
    "#{'title': 'Visualization of breast cancer-related protein synthesis from  the perspective   of bibliometric analysis ',\n",
    "# 'authors': 'Jiawei Xu, Chengdong Yu, Xiaoqiang Zeng, Weifeng Tang, Siyi Xu, Lei Tang, Yanxiao Huang, Zhengkui Sun , Tenghua Yu*',\n",
    "# 'pub_year': 2023,\n",
    "# 'key_words': 'breast cancer, cancer, protein, expression, translation',\n",
    "# 'summary': 'The Our analysis of the relationship between protein expression in breast cancer and the  development and  treatment of tumors.',\n",
    "# 'research_area': 'oncology, hematology',\n",
    "# 'quality': 'EXCELLENT',\n",
    "# 'quality_reason': 'Presentation of content is good. '}"
   ]
  },
  {
   "cell_type": "markdown",
   "metadata": {},
   "source": [
    "with prompt with Pydantc class schema"
   ]
  },
  {
   "cell_type": "code",
   "execution_count": null,
   "metadata": {},
   "outputs": [],
   "source": [
    "# https://outlines-dev.github.io/outlines/reference/prompting/\n",
    "\n",
    "import outlines\n",
    "import outlines.generate\n",
    "import outlines.generate.json\n",
    "from pydantic import BaseModel, Field\n",
    "from typing import List\n",
    "\n",
    "class Metadata(BaseModel):\n",
    "    title: str = Field(..., description=\"extract title from article\")\n",
    "    authors: str = Field(..., description=\"extract authors from article\")\n",
    "    pub_year: int = Field(..., description=\"extract publication year\")\n",
    "    key_words: str = Field(..., description=\"generate 5 new key words based on content in Abstract\")\n",
    "    summary: str = Field(..., description=\"generate summary in 3 sentences\")\n",
    "    research_area: str = Field(..., description=\"generate 1 main research area described in article\")\n",
    "    quality: str = Field(..., description=\"select one value from examples to define quality of article\", examples=['GOOD', 'BAD', 'EXCELLENT', 'CAN NOT SET QUALITY']) # NOTE examples not included in propt\n",
    "    quality_reason: str = Field(..., description=\"describe reason for chosen quality_score in 1 sentece\")\n",
    "\n",
    "@outlines.prompt\n",
    "def get_metadata(text, pydantic_model):\n",
    "    \"\"\"\n",
    "    Article is delimited by (start) and (stop):\n",
    "    (start)\n",
    "    {{text}}\n",
    "    (stop)\n",
    "    Based on the article content, generate fields listed below according to their descriptions. \n",
    "    {{ pydantic_model | schema }}\n",
    "    \"\"\"\n",
    "\n",
    "prompt = get_metadata(TEXT, Metadata)\n",
    "generator = outlines.generate.json(model_mistral, Metadata)\n",
    "result = generator(prompt)\n",
    "\n",
    "result.model_dump()\n",
    "\n",
    "#---------------------------------------------------------------------------------------------\n",
    "# TODO NOTE: the output is different ith  {{ pydantic_model | schema }} and manually inserted fields from example above even though printed prompt looks the same\n",
    "#{'title': 'Breast cancer and protein synthesis from the perspective of bibliometric analysis', # NOTE-> not correct\n",
    "# 'authors': 'Xu, X., Yu, C., Zeng, X., Tang, W., Xu, S., Tang, L., Huang, Y., Sun, Z. and Yu, T.',  # NOTE -> first name intitials only\n",
    "# 'pub_year': 2023,\n",
    "# 'key_words': 'Breast cancer; gene expression; c-myc and bcl-xL; chart; Eastern Blot; Oncogene; Molecular Cell Biology; hypoxia; Cell Division; Cancer research', # NOTE -> strange and not 5 words\n",
    "# 'summary': \"This article presents a bibliometric analysis of research studies related to breast cancer and protein synthesis, using the Web of Science database for the period of 2003 to 2022. Over 2900 articles were retrieved containing the keywords 'breast cancer' and 'protein synthesis' in the title, abstract, and keywords. The number of publications related to breast cancer and protein synthesis has increased steadily, and the most prominent research topics include the relationship between protein expression and tumor development and treatment, the regulation of protein synthesis by hypoxia, the mechanisms and advances related to various oncogenes, c-myc, and bcl-xl, the interactions between cells and cancer cells, and the functions of various proteins in cancer-affected pathways. Notable journals associated with breast cancer and protein synthesis include the Journal of Biological Chemistry, Cancer Research, the Proceedings of the National Academy of Sciences of the United States of America, and Oncogene.\",\n",
    "# 'research_area': 'Oncology',\n",
    "# 'quality': 'good',\n",
    "# 'quality_reason': 'The article uses a well-established database and is well-written and referenced.'}\n",
    "\n",
    "\n",
    "# TODO: detta example med få med examples"
   ]
  },
  {
   "cell_type": "code",
   "execution_count": 12,
   "metadata": {},
   "outputs": [],
   "source": [
    "# TODO: lösa Validation error when running above with mistral-7b-instruct-v0.2.Q6_K.gguf alt köra mistral på GPU . hur?????\n",
    "# TODO: result -> pydantic"
   ]
  },
  {
   "cell_type": "markdown",
   "metadata": {},
   "source": [
    "---\n",
    "---"
   ]
  },
  {
   "cell_type": "code",
   "execution_count": null,
   "metadata": {},
   "outputs": [],
   "source": [
    "Metadata.model_fields['quality'].examples"
   ]
  },
  {
   "cell_type": "markdown",
   "metadata": {},
   "source": [
    "INSPIRATION"
   ]
  },
  {
   "cell_type": "code",
   "execution_count": null,
   "metadata": {},
   "outputs": [],
   "source": [
    "generator = generate.choice(model, [\"skirt\", \"dress\", \"pen\", \"jacket\"])\n",
    "generator = generate.text(model) # does not work with Pydantic\n",
    "generator = generate.regex(model, r\"((25[0-5]|2[0-4]\\d|[01]?\\d\\d?)\\.){3}(25[0-5]|2[0-4]\\d|[01]?\\d\\d?)\",)\n",
    "generator = generate.format(model, int)\n",
    "\n",
    "result = generator(prompt, max_tokens=10)\n",
    "\n",
    "#-----------------------------------------------------------------------------------------------\n",
    "def add(a: int, b: int):\n",
    "    return a + b\n",
    "\n",
    "model = outlines.models.transformers(\"WizardLM/WizardMath-7B-V1.1\")\n",
    "generator = outlines.generate.json(model, add)\n",
    "result = generator(\"Return json with two integers named a and b respectively. a is odd and b even.\")\n",
    "\n",
    "print(add(**result))\n",
    "# 3\n",
    "\n",
    "# -----------------------------------------------------------------------------------------------\n",
    "import outlines\n",
    "\n",
    "examples = [\n",
    "    (\"The food was disgusting\", \"Negative\"),\n",
    "    (\"We had a fantastic night\", \"Positive\"),\n",
    "    (\"Recommended\", \"Positive\"),\n",
    "    (\"The waiter was rude\", \"Negative\")\n",
    "]\n",
    "\n",
    "@outlines.prompt\n",
    "def labelling(to_label, examples):\n",
    "    \"\"\"You are a sentiment-labelling assistant.\n",
    "\n",
    "    {% for example in examples %}\n",
    "    {{ example[0] }} // {{ example[1] }}\n",
    "    {% endfor %}\n",
    "    {{ to_label }} //\n",
    "    \"\"\"\n",
    "\n",
    "model = outlines.models.transformers(\"mistralai/Mistral-7B-Instruct-v0.2\")\n",
    "prompt = labelling(\"Just awesome\", examples)\n",
    "answer = outlines.generate.text(model)(prompt, max_tokens=100)"
   ]
  }
 ],
 "metadata": {
  "kernelspec": {
   "display_name": "venv",
   "language": "python",
   "name": "python3"
  },
  "language_info": {
   "codemirror_mode": {
    "name": "ipython",
    "version": 3
   },
   "file_extension": ".py",
   "mimetype": "text/x-python",
   "name": "python",
   "nbconvert_exporter": "python",
   "pygments_lexer": "ipython3",
   "version": "3.10.12"
  }
 },
 "nbformat": 4,
 "nbformat_minor": 2
}
