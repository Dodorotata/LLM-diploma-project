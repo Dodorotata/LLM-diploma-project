{
 "cells": [
  {
   "cell_type": "markdown",
   "metadata": {},
   "source": [
    "# Pydantic -> {Guidance}/LLM -> SQLight"
   ]
  },
  {
   "cell_type": "markdown",
   "metadata": {},
   "source": [
    "### COMMENTS:\n",
    "\n",
    "* possible improvments:\n",
    "    * bridge Pydantic and SQLite with for example pydantic_sqlite module https://pypi.org/project/pydantic_sqlite/#description\n",
    "    * try/except; error handling\n",
    "---"
   ]
  },
  {
   "cell_type": "markdown",
   "metadata": {},
   "source": [
    "## POC extraction of metadata and isertion into a SQLite table for 1 document"
   ]
  },
  {
   "cell_type": "markdown",
   "metadata": {},
   "source": [
    "create database and table"
   ]
  },
  {
   "cell_type": "code",
   "execution_count": null,
   "metadata": {},
   "outputs": [],
   "source": [
    "import sqlite3\n",
    "\n",
    "conn = sqlite3.connect('patent_metadata.db')\n",
    "cur = conn.cursor()"
   ]
  },
  {
   "cell_type": "code",
   "execution_count": null,
   "metadata": {},
   "outputs": [],
   "source": [
    "cur.execute(\"\"\"CREATE TABLE IF NOT EXISTS patent_metadata(\n",
    "   patentid TEXT PRIMARY KEY,\n",
    "   timestamp REAL,\n",
    "   summary TEXT,\n",
    "   key_technological_field TEXT,\n",
    "   novelty_level TEXT,\n",
    "   novelty_level_reason TEXT,\n",
    "   medical_device_category TEXT,\n",
    "   invasive TEXT,\n",
    "   active TEXT,\n",
    "   software TEXT,\n",
    "   measuring_function TEXT,\n",
    "   trained_professional_user TEXT);\n",
    "\"\"\")\n",
    "conn.commit()"
   ]
  },
  {
   "cell_type": "markdown",
   "metadata": {},
   "source": [
    "read in document and load model"
   ]
  },
  {
   "cell_type": "code",
   "execution_count": null,
   "metadata": {},
   "outputs": [],
   "source": [
    "from pypdf import PdfReader \n",
    "  \n",
    "reader = PdfReader('/home/dorota/LLM-diploma-project/00_concept_tests/data/patents/WO2014076653A1.pdf') \n",
    "num_pages = len(reader.pages)\n",
    "TEXT = \"\"\n",
    "for page_num in range(num_pages): #change to range(num_pages) for whole document\n",
    "    page = reader.pages[page_num]  \n",
    "    TEXT += page.extract_text()"
   ]
  },
  {
   "cell_type": "code",
   "execution_count": null,
   "metadata": {},
   "outputs": [],
   "source": [
    "import guidance\n",
    "from guidance import models, gen, select\n",
    "import json\n",
    "from llama_cpp import Llama\n",
    "\n",
    "model = Llama(\"/home/dorota/models/mistral-7b-instruct-v0.2.Q6_K.gguf\", n_gpu_layers=10, n_ctx=0, echo=False, verbose=False)\n",
    "# model = Llama(\"/home/dorota/models/mixtral-8x7b-instruct-v0.1.Q4_K_M.gguf\", n_gpu_layers=5, n_ctx=0, echo=False, verbose=True)\n",
    "lm = guidance.models.LlamaCpp(model=model, echo=False, silent=False)"
   ]
  },
  {
   "cell_type": "markdown",
   "metadata": {},
   "source": [
    "define Pydantic class"
   ]
  },
  {
   "cell_type": "code",
   "execution_count": null,
   "metadata": {},
   "outputs": [],
   "source": [
    "from pydantic import BaseModel, Field\n",
    "from typing import List\n",
    "\n",
    "class PatentMetadata(BaseModel):\n",
    "    summary: str = Field(..., description=\"generate summary of the invention in 1 sentence\")\n",
    "    key_technological_field: str = Field(..., description=\"list 5 key technological concepts in 1-3 words described in patent\")\n",
    "    novelty_level: str = Field(..., description=\"select one value from provided examples to define level of novelty of invention\", examples=['LOW', 'MEDIUM', 'HIGH'])\n",
    "    novelty_level_reason: str = Field(..., description=\"describe reason for chosen novelty_level in 1 sentece\")\n",
    "    medical_device_category: str = Field(...,\n",
    "                                         description=\"choose device category from provided examples\",\n",
    "                                         examples=['Clinical chemistry and clinical toxicology devices',\n",
    "                                                   'Hematology and pathology devices',\n",
    "                                                   'Immunology and microbiology devices',\n",
    "                                                   'Anesthesiology devices',\n",
    "                                                   'Cardiovascular devices',\n",
    "                                                   'Dental devices',\n",
    "                                                   'Gastroenterology-urology devices',\n",
    "                                                   'General and plastic surgery devices',\n",
    "                                                   'General hospital and personal use devices',\n",
    "                                                   'Neurological devices',\n",
    "                                                   'Obstetrical and gynecological devices',\n",
    "                                                   'Ophthalmic devices',\n",
    "                                                   'Orthopedic devices',\n",
    "                                                   'Physical medicine devices',\n",
    "                                                   'Radiology devices'])\n",
    "    invasive: str = Field(...,\n",
    "                          description=\"Is the device'invasive', where 'invasive' means that any part of device penetrates inside the body?\",\n",
    "                          examples=['yes', 'no'])\n",
    "    active: str = Field(...,\n",
    "                        description=\"Is the device 'active' meaning device contains software or device operation depends on a source of energy other than that generated by the human body for that purpose, or by gravity, and which acts by changing the density of or converting that energy?\",\n",
    "                        examples=['yes', 'no'])\n",
    "    software: str = Field(...,\n",
    "                          description=\"Does the device contain software or is connected to a device with software?\",\n",
    "                          examples=['yes', 'no'])\n",
    "    measuring_function: str = Field(...,\n",
    "                                    description=\"Does the device have a 'measuring function' meaning it is intended to quantify parameters and the result of the measurement in displayed?\",\n",
    "                                    examples=['yes', 'no'])\n",
    "    trained_professional_user: str = Field(...,\n",
    "                               description=\"Does the device require trained professional medical personel to be used?\",\n",
    "                               examples=['yes', 'no'])"
   ]
  },
  {
   "cell_type": "markdown",
   "metadata": {},
   "source": [
    "build {Guidance} prompt and run the model on the text document"
   ]
  },
  {
   "cell_type": "code",
   "execution_count": null,
   "metadata": {},
   "outputs": [],
   "source": [
    "@guidance\n",
    "def get_metadata(lm, text, pydantic_class):\n",
    "    lm += f'''\\\n",
    "    Patent is delimited by (start) and (stop):\n",
    "    (start)\n",
    "    {text}\n",
    "    (stop)\n",
    "\n",
    "    JSON ouput: {{'''\n",
    "\n",
    "    for key, value in pydantic_class.model_fields.items():\n",
    "        if value.examples:\n",
    "            lm += '\"' + value.description + \" \" + ', '.join(value.examples) + '\": \"' + select(options=value.examples, name=key) + '\",'\n",
    "        elif value.annotation == str:\n",
    "            lm += '\"' + value.description + '\": \"' + gen(name=key, stop='\"') + '\",'\n",
    "        elif value.annotation == int:\n",
    "            lm += '\"' + value.description + '\": \"' + gen(name=key, regex=\"[0-9]+\") + '\",'\n",
    "    lm += '}'\n",
    "    return lm\n",
    "\n",
    "def output_to_pydantic(pydantic_class, output):\n",
    "    '''Transorms output from lm/guidance -> dict -> original pydantic model'''\n",
    "    metadata_dict = {}\n",
    "    for key in pydantic_class.model_fields.keys():\n",
    "        metadata_dict[key] = output[key]\n",
    "\n",
    "    output_pydantic_model = pydantic_class(**metadata_dict)\n",
    "    return output_pydantic_model\n",
    "\n",
    "\n",
    "output = lm + get_metadata(TEXT, PatentMetadata)\n",
    "output_pydantic = output_to_pydantic(PatentMetadata, output)"
   ]
  },
  {
   "cell_type": "markdown",
   "metadata": {},
   "source": [
    "create tuple with output fields"
   ]
  },
  {
   "cell_type": "code",
   "execution_count": null,
   "metadata": {},
   "outputs": [],
   "source": [
    "from datetime import datetime\n",
    "\n",
    "timestamp = datetime.timestamp(datetime.now())\n",
    "\n",
    "filename = 'WO2014076653A1.pdf'\n",
    "patentid = filename.split('.')[0]\n",
    "\n",
    "output_vals = (patentid, timestamp, *output_pydantic.model_dump().values())\n",
    "output_vals"
   ]
  },
  {
   "cell_type": "markdown",
   "metadata": {},
   "source": [
    "insert tuple into table (note update fields if timestamp for incomming information is newer than exisiting timestamp) - corresponds to UPSERT"
   ]
  },
  {
   "cell_type": "code",
   "execution_count": null,
   "metadata": {},
   "outputs": [],
   "source": [
    "cur.execute(\"\"\"INSERT INTO patent_metadata VALUES(?, ?, ?, ?, ?, ?, ?, ?, ?, ?, ?, ?)\n",
    "            ON CONFLICT(patentid) DO UPDATE SET\n",
    "                summary=excluded.summary,\n",
    "                timestamp=excluded.timestamp,\n",
    "                key_technological_field=excluded.key_technological_field,\n",
    "                novelty_level=excluded.novelty_level,\n",
    "                novelty_level_reason=excluded.novelty_level_reason,\n",
    "                medical_device_category=excluded.medical_device_category,\n",
    "                invasive=excluded.invasive,\n",
    "                active=excluded.active,\n",
    "                software=excluded.software,\n",
    "                measuring_function=excluded.measuring_function,\n",
    "                trained_professional_user=excluded.trained_professional_user\n",
    "            WHERE excluded.timestamp>patent_metadata.timestamp;\"\"\", output_vals)\n",
    "conn.commit()\n",
    "\n",
    "# https://www.sqlite.org/lang_upsert.html"
   ]
  },
  {
   "cell_type": "markdown",
   "metadata": {},
   "source": [
    "display table using pandas"
   ]
  },
  {
   "cell_type": "code",
   "execution_count": null,
   "metadata": {},
   "outputs": [],
   "source": [
    "import pandas as pd\n",
    "\n",
    "df = pd.read_sql_query(\"SELECT * from patent_metadata\", con=conn)\n",
    "df"
   ]
  },
  {
   "cell_type": "code",
   "execution_count": null,
   "metadata": {},
   "outputs": [],
   "source": [
    "# cur.execute(\"DROP TABLE patent_metadata\")\n",
    "# conn.commit()"
   ]
  },
  {
   "cell_type": "markdown",
   "metadata": {},
   "source": [
    "---"
   ]
  },
  {
   "cell_type": "markdown",
   "metadata": {},
   "source": [
    "## Full code for extraction of metadata from files in a specified folder"
   ]
  },
  {
   "cell_type": "code",
   "execution_count": null,
   "metadata": {},
   "outputs": [],
   "source": [
    "# run all patents in specified folder\n",
    "import sqlite3\n",
    "\n",
    "conn = sqlite3.connect('patent_metadata.db')\n",
    "cur = conn.cursor()\n",
    "\n",
    "import os\n",
    "from pypdf import PdfReader\n",
    "from datetime import datetime\n",
    "\n",
    "import guidance\n",
    "from guidance import models, gen, select\n",
    "import json\n",
    "from llama_cpp import Llama\n",
    "\n",
    "from pydantic import BaseModel, Field\n",
    "from typing import List\n",
    "\n",
    "cur.execute(\"\"\"CREATE TABLE IF NOT EXISTS patent_metadata(\n",
    "   patentid TEXT PRIMARY KEY,\n",
    "   timestamp REAL,\n",
    "   summary TEXT,\n",
    "   key_technological_field TEXT,\n",
    "   novelty_level TEXT,\n",
    "   novelty_level_reason TEXT,\n",
    "   medical_device_category TEXT,\n",
    "   invasive TEXT,\n",
    "   active TEXT,\n",
    "   software TEXT,\n",
    "   measuring_function TEXT,\n",
    "   trained_professional_user TEXT);\n",
    "\"\"\")\n",
    "conn.commit()\n",
    "\n",
    "model = Llama(\"/home/dorota/models/mistral-7b-instruct-v0.2.Q6_K.gguf\", n_gpu_layers=10, n_ctx=0, echo=False, verbose=False)\n",
    "# model = Llama(\"/home/dorota/models/mixtral-8x7b-instruct-v0.1.Q4_K_M.gguf\", n_gpu_layers=5, n_ctx=0, echo=False, verbose=True)\n",
    "lm = guidance.models.LlamaCpp(model=model, echo=False, silent=False)\n",
    "\n",
    "directory = '/home/dorota/LLM-diploma-project/00_concept_tests/data/patents_2'\n",
    "\n",
    "class PatentMetadata(BaseModel):\n",
    "    summary: str = Field(..., description=\"generate summary of the invention in 1 sentence\")\n",
    "    key_technological_field: str = Field(..., description=\"list 5 key technological concepts in 1-3 words described in patent\")\n",
    "    novelty_level: str = Field(..., description=\"select one value from provided examples to define level of novelty of invention\", examples=['LOW', 'MEDIUM', 'HIGH'])\n",
    "    novelty_level_reason: str = Field(..., description=\"describe reason for chosen novelty_level in 1 sentece\")\n",
    "    medical_device_category: str = Field(...,\n",
    "                                         description=\"choose device category from provided examples\",\n",
    "                                         examples=['Clinical chemistry and clinical toxicology devices',\n",
    "                                                   'Hematology and pathology devices',\n",
    "                                                   'Immunology and microbiology devices',\n",
    "                                                   'Anesthesiology devices',\n",
    "                                                   'Cardiovascular devices',\n",
    "                                                   'Dental devices',\n",
    "                                                   'Gastroenterology-urology devices',\n",
    "                                                   'General and plastic surgery devices',\n",
    "                                                   'General hospital and personal use devices',\n",
    "                                                   'Neurological devices',\n",
    "                                                   'Obstetrical and gynecological devices',\n",
    "                                                   'Ophthalmic devices',\n",
    "                                                   'Orthopedic devices',\n",
    "                                                   'Physical medicine devices',\n",
    "                                                   'Radiology devices'])\n",
    "    invasive: str = Field(...,\n",
    "                          description=\"Is the device'invasive', where 'invasive' means that any part of device penetrates inside the body?\",\n",
    "                          examples=['yes', 'no'])\n",
    "    active: str = Field(...,\n",
    "                        description=\"Is the device 'active' meaning device contains software or device operation depends on a source of energy other than that generated by the human body for that purpose, or by gravity, and which acts by changing the density of or converting that energy?\",\n",
    "                        examples=['yes', 'no'])\n",
    "    software: str = Field(...,\n",
    "                          description=\"Does the device contain software or is connected to a device with software?\",\n",
    "                          examples=['yes', 'no'])\n",
    "    measuring_function: str = Field(...,\n",
    "                                    description=\"Does the device have a 'measuring function' meaning it is intended to quantify parameters and the result of the measurement in displayed?\",\n",
    "                                    examples=['yes', 'no'])\n",
    "    trained_professional_user: str = Field(...,\n",
    "                               description=\"Does the device require trained professional medical personel to be used?\",\n",
    "                               examples=['yes', 'no'])\n",
    "\n",
    "@guidance\n",
    "def get_metadata(lm, text, pydantic_class):\n",
    "    lm += f'''\\\n",
    "    Patent is delimited by (start) and (stop):\n",
    "    (start)\n",
    "    {text}\n",
    "    (stop)\n",
    "\n",
    "    JSON ouput: {{'''\n",
    "\n",
    "    for key, value in pydantic_class.model_fields.items():\n",
    "        if value.examples:\n",
    "            lm += '\"' + value.description + \" \" + ', '.join(value.examples) + '\": \"' + select(options=value.examples, name=key) + '\",'\n",
    "        elif value.annotation == str:\n",
    "            lm += '\"' + value.description + '\": \"' + gen(name=key, stop='\"') + '\",'\n",
    "        elif value.annotation == int:\n",
    "            lm += '\"' + value.description + '\": \"' + gen(name=key, regex=\"[0-9]+\") + '\",'\n",
    "    lm += '}'\n",
    "    return lm\n",
    "\n",
    "def output_to_pydantic(pydantic_class, output):\n",
    "    '''Transorms output from lm/guidance -> dict -> original pydantic model'''\n",
    "    metadata_dict = {}\n",
    "    for key in pydantic_class.model_fields.keys():\n",
    "        metadata_dict[key] = output[key]\n",
    "\n",
    "    output_pydantic_model = pydantic_class(**metadata_dict)\n",
    "    return output_pydantic_model\n",
    "\n",
    "\n",
    "\n",
    "for filename in os.listdir(directory):\n",
    "    print(f'extracting metadata from {filename}')\n",
    "    timestamp = datetime.timestamp(datetime.now())\n",
    "    patentid = filename.split('.')[0]\n",
    "\n",
    "    cur.execute(f\"SELECT 1 FROM patent_metadata WHERE patentid = ?\", (patentid,))\n",
    "    exists = cur.fetchone()\n",
    "\n",
    "    if exists:\n",
    "        print(f'{patentid} already exists')\n",
    "        continue\n",
    "    else:\n",
    "        file = os.path.join(directory, filename)\n",
    "        reader = PdfReader(file) \n",
    "        num_pages = len(reader.pages)\n",
    "        TEXT = \"\"\n",
    "        for page_num in range(num_pages):\n",
    "            page = reader.pages[page_num]  \n",
    "            TEXT += page.extract_text()\n",
    "\n",
    "        output = lm + get_metadata(TEXT, PatentMetadata)\n",
    "        output_pydantic = output_to_pydantic(PatentMetadata, output)\n",
    "        output_vals = (patentid, timestamp, *output_pydantic.model_dump().values())\n",
    "        cur.execute(\"\"\"INSERT INTO patent_metadata VALUES(?, ?, ?, ?, ?, ?, ?, ?, ?, ?, ?, ?)\n",
    "                ON CONFLICT(patentid) DO UPDATE SET\n",
    "                    summary=excluded.summary,\n",
    "                    timestamp=excluded.timestamp,\n",
    "                    key_technological_field=excluded.key_technological_field,\n",
    "                    novelty_level=excluded.novelty_level,\n",
    "                    novelty_level_reason=excluded.novelty_level_reason,\n",
    "                    medical_device_category=excluded.medical_device_category,\n",
    "                    invasive=excluded.invasive,\n",
    "                    active=excluded.active,\n",
    "                    software=excluded.software,\n",
    "                    measuring_function=excluded.measuring_function,\n",
    "                    trained_professional_user=excluded.trained_professional_user\n",
    "                WHERE excluded.timestamp>patent_metadata.timestamp;\"\"\", output_vals)\n",
    "        conn.commit()\n",
    "        # conn.close() ???????????????????????????????????????????\n",
    "        print(f'done with {filename}')\n",
    "    "
   ]
  }
 ],
 "metadata": {
  "kernelspec": {
   "display_name": "venv",
   "language": "python",
   "name": "python3"
  },
  "language_info": {
   "codemirror_mode": {
    "name": "ipython",
    "version": 3
   },
   "file_extension": ".py",
   "mimetype": "text/x-python",
   "name": "python",
   "nbconvert_exporter": "python",
   "pygments_lexer": "ipython3",
   "version": "3.10.12"
  }
 },
 "nbformat": 4,
 "nbformat_minor": 2
}
