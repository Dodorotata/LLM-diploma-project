{
 "cells": [
  {
   "cell_type": "markdown",
   "metadata": {},
   "source": [
    "# Extracting Metadata with Llamaindex"
   ]
  },
  {
   "cell_type": "markdown",
   "metadata": {},
   "source": [
    "---\n",
    "CONCLUSIONS:\n",
    "* Predefined Metadata Extractor modules work fairly well but the process is very slow\n",
    "* Custom Metadata Extractor modules can be crated. This has not been investigated in current notebook.\n",
    "* Pydantic Extractor seems to work well with OpenAIPydanticProgram, however swiching to the local GuidancePydanticProgram breaks the pipline (https://github.com/run-llama/llama_index/issues/9914)\n",
    "* GuidancePydanticProgram without the pipeline dones not output structured enough data:  OutputParserException: Failed to parse pydantic object from guidance program. Probably the LLM failed to produce data with right json schema\n",
    "\n",
    "* NOTE: version for llama-cpp-python was upgraded to latest when installing llama-index-llms-llama-cpp. Latest version might give unstable output for {Guidance}. Stable output with llama-cpp-python==0.2.26\n",
    "* llama-cpp-python with GPU:\\\n",
    "CUDACXX=/usr/local/cuda-12/bin/nvcc CMAKE_ARGS=\"-DLLAMA_CUBLAS=on -DCMAKE_CUDA_ARCHITECTURES=all-major\" FORCE_CMAKE=1 pip install llama-cpp-python==0.2.26 --no-cache-dir --force-reinstall --upgrade\n",
    "---\n",
    "---"
   ]
  },
  {
   "cell_type": "code",
   "execution_count": null,
   "metadata": {},
   "outputs": [],
   "source": [
    "# !wget -O \"data/10k-132.pdf\" \"https://www.dropbox.com/scl/fi/6dlqdk6e2k1mjhi8dee5j/uber.pdf?rlkey=2jyoe49bg2vwdlz30l76czq6g&dl=1\"\n",
    "# !wget -O \"data/10k-vFinal.pdf\" \"https://www.dropbox.com/scl/fi/qn7g3vrk5mqb18ko4e5in/lyft.pdf?rlkey=j6jxtjwo8zbstdo4wz3ns8zoj&dl=1\""
   ]
  },
  {
   "cell_type": "markdown",
   "metadata": {},
   "source": [
    "## Metadata Extractors modules\n",
    "https://docs.llamaindex.ai/en/stable/examples/metadata_extraction/MetadataExtractionSEC/ \\\n",
    "https://docs.llamaindex.ai/en/stable/module_guides/indexing/metadata_extraction/ \\\n",
    "https://docs.llamaindex.ai/en/stable/examples/metadata_extraction/EntityExtractionClimate/ - Entitiy extractor"
   ]
  },
  {
   "cell_type": "code",
   "execution_count": null,
   "metadata": {},
   "outputs": [],
   "source": [
    "import nest_asyncio # required for ingesion pipline\n",
    "nest_asyncio.apply()\n",
    "\n",
    "from llama_index.llms.llama_cpp import LlamaCPP\n",
    "\n",
    "from llama_index.core.schema import MetadataMode\n",
    "from llama_index.core.extractors import (\n",
    "    SummaryExtractor,\n",
    "    QuestionsAnsweredExtractor,\n",
    "    TitleExtractor,\n",
    "    KeywordExtractor,\n",
    "    #BaseExtractor,\n",
    ")\n",
    "from llama_index.extractors.entity import EntityExtractor\n",
    "\n",
    "from llama_index.core.node_parser import TokenTextSplitter\n",
    "from llama_index.core import SimpleDirectoryReader\n",
    "from llama_index.core.ingestion import IngestionPipeline\n"
   ]
  },
  {
   "cell_type": "code",
   "execution_count": null,
   "metadata": {},
   "outputs": [],
   "source": [
    "llm = LlamaCPP(\n",
    "    model_path=\"/home/dorota/models/mistral-7b-instruct-v0.2.Q6_K.gguf\",\n",
    "    context_window=16384, # n_ctx=0\n",
    "    max_new_tokens=1024,\n",
    "    model_kwargs={\"n_gpu_layers\": 33},\n",
    "    verbose=False\n",
    ") "
   ]
  },
  {
   "cell_type": "code",
   "execution_count": null,
   "metadata": {},
   "outputs": [],
   "source": [
    "text_splitter = TokenTextSplitter(\n",
    "    separator=\" \", chunk_size=512, chunk_overlap=128\n",
    ")"
   ]
  },
  {
   "cell_type": "code",
   "execution_count": null,
   "metadata": {},
   "outputs": [],
   "source": [
    "extractors = [\n",
    "    TitleExtractor(nodes=5, llm=llm),\n",
    "    QuestionsAnsweredExtractor(questions=2, llm=llm),\n",
    "    EntityExtractor(prediction_threshold=0.5), # default model is tomaarsen/span-marker-mbert-base-multinerd\n",
    "    SummaryExtractor(summaries=[\"prev\", \"self\"], llm=llm),\n",
    "    KeywordExtractor(keywords=10, llm=llm),\n",
    "    # CustomExtractor()\n",
    "]"
   ]
  },
  {
   "cell_type": "code",
   "execution_count": null,
   "metadata": {},
   "outputs": [],
   "source": [
    "transformations = [text_splitter] + extractors"
   ]
  },
  {
   "cell_type": "code",
   "execution_count": null,
   "metadata": {},
   "outputs": [],
   "source": [
    "ARTICLE = SimpleDirectoryReader(input_files=[\"/home/dorota/LLM-diploma-project/00_concept_tests/data/40001_2023_Article_1364.pdf\"]).load_data()\n",
    "ARTICLE = ARTICLE[0:1]"
   ]
  },
  {
   "cell_type": "code",
   "execution_count": null,
   "metadata": {},
   "outputs": [],
   "source": [
    "pipeline = IngestionPipeline(transformations=transformations)\n",
    "nodes = pipeline.run(documents=ARTICLE)"
   ]
  },
  {
   "cell_type": "code",
   "execution_count": null,
   "metadata": {},
   "outputs": [],
   "source": [
    "nodes[1].metadata\n"
   ]
  },
  {
   "cell_type": "code",
   "execution_count": null,
   "metadata": {},
   "outputs": [],
   "source": [
    "# https://docs.llamaindex.ai/en/stable/module_guides/indexing/metadata_extraction/\n",
    "# TODO: try custom extractor\n",
    "# from llama_index.core.extractors import BaseExtractor\n",
    "# from typing import List, Dict\n",
    "\n",
    "# class CustomExtractor(BaseExtractor):\n",
    "#     async def aextract(self, nodes) -> List[Dict]:\n",
    "#         metadata_list = [\n",
    "#             {\n",
    "#                 \"custom\": node.metadata[\"document_title\"]\n",
    "#                 + \"\\n\"\n",
    "#                 + node.metadata[\"excerpt_keywords\"]\n",
    "#             }\n",
    "#             for node in nodes\n",
    "#         ]\n",
    "#         return metadata_list"
   ]
  },
  {
   "cell_type": "markdown",
   "metadata": {},
   "source": [
    "## Pydantic Extractor with pipeline and GidancePydanticProgram\n",
    "https://docs.llamaindex.ai/en/stable/examples/metadata_extraction/PydanticExtractor/"
   ]
  },
  {
   "cell_type": "code",
   "execution_count": null,
   "metadata": {},
   "outputs": [],
   "source": [
    "import nest_asyncio\n",
    "nest_asyncio.apply()\n",
    "\n",
    "from pydantic import BaseModel, Field\n",
    "from typing import List\n",
    "\n",
    "from llama_index.llms.llama_cpp import LlamaCPP"
   ]
  },
  {
   "cell_type": "code",
   "execution_count": null,
   "metadata": {},
   "outputs": [],
   "source": [
    "class NodeMetadata(BaseModel):\n",
    "    \"\"\"Node metadata.\"\"\"\n",
    "\n",
    "    entities: List[str] = Field(\n",
    "        ..., description=\"Unique entities in this text chunk.\"\n",
    "    )\n",
    "    summary: str = Field(\n",
    "        ..., description=\"A concise summary of this text chunk.\"\n",
    "    )\n",
    "    contains_number: bool = Field(\n",
    "        ...,\n",
    "        description=(\n",
    "            \"Whether the text chunk contains any numbers (ints, floats, etc.)\"\n",
    "        ),\n",
    "    )"
   ]
  },
  {
   "cell_type": "code",
   "execution_count": null,
   "metadata": {},
   "outputs": [],
   "source": [
    "llm = LlamaCPP(\n",
    "    model_path=\"/home/dorota/models/mistral-7b-instruct-v0.2.Q6_K.gguf\",\n",
    "    context_window=16384, # n_ctx=0\n",
    "    max_new_tokens=1024,\n",
    "    model_kwargs={\"n_gpu_layers\": 33},\n",
    "    verbose=False\n",
    ") "
   ]
  },
  {
   "cell_type": "code",
   "execution_count": null,
   "metadata": {},
   "outputs": [],
   "source": [
    "from llama_index.program.guidance import GuidancePydanticProgram #from llama_index.program.openai import OpenAIPydanticProgram\n",
    "from llama_index.core.extractors import PydanticProgramExtractor\n",
    "\n",
    "EXTRACT_TEMPLATE_STR = \"\"\"\\\n",
    "Here is the content of the section:\n",
    "----------------\n",
    "{context_str}\n",
    "----------------\n",
    "Given the contextual information, extract out a {class_name} object.\\\n",
    "\"\"\"\n",
    "\n",
    "guidance_program = GuidancePydanticProgram.from_defaults(\n",
    "    output_cls=NodeMetadata,\n",
    "    prompt_template_str=\"{input}\",\n",
    "    # extract_template_str=EXTRACT_TEMPLATE_STR\n",
    ")\n",
    "\n",
    "program_extractor = PydanticProgramExtractor(\n",
    "    program=guidance_program, input_key=\"input\", show_progress=True, extract_template_str = EXTRACT_TEMPLATE_STR\n",
    ")"
   ]
  },
  {
   "cell_type": "code",
   "execution_count": null,
   "metadata": {},
   "outputs": [],
   "source": [
    "from llama_index.core import SimpleDirectoryReader\n",
    "from llama_index.core.node_parser import SentenceSplitter\n",
    "from llama_index.core.ingestion import IngestionPipeline\n",
    "\n",
    "ARTICLE = SimpleDirectoryReader(input_files=[\"/home/dorota/LLM-diploma-project/00_concept_tests/data/40001_2023_Article_1364.pdf\"]).load_data()\n",
    "ARTICLE = ARTICLE[0:1]\n",
    "\n",
    "node_parser = SentenceSplitter(chunk_size=1024)\n",
    "pipeline = IngestionPipeline(transformations=[node_parser, program_extractor])\n",
    "orig_nodes = pipeline.run(documents=ARTICLE)\n",
    "\n",
    "# can not run the pipeline with GuidancePydanticProgram; TypeError: GuidancePydanticProgram.program() missing 2 required positional arguments: 'tools_str' and 'query_str'"
   ]
  },
  {
   "cell_type": "markdown",
   "metadata": {},
   "source": [
    "## Pydantic Extractor with GidancePydanticProgram without pipeline"
   ]
  },
  {
   "cell_type": "code",
   "execution_count": null,
   "metadata": {},
   "outputs": [],
   "source": [
    "from pydantic import BaseModel, Field\n",
    "from typing import List"
   ]
  },
  {
   "cell_type": "code",
   "execution_count": null,
   "metadata": {},
   "outputs": [],
   "source": [
    "class NodeMetadata(BaseModel):\n",
    "    \"\"\"Node metadata.\"\"\"\n",
    "\n",
    "    entities: List[str] = Field(\n",
    "        ..., description=\"Unique entities in this text chunk.\"\n",
    "    )\n",
    "    summary: str = Field(\n",
    "        ..., description=\"A concise summary of this text chunk.\"\n",
    "    )\n",
    "    contains_number: bool = Field(\n",
    "        ...,\n",
    "        description=(\n",
    "            \"Whether the text chunk contains any numbers (ints, floats, etc.)\"\n",
    "        ),\n",
    "    )"
   ]
  },
  {
   "cell_type": "code",
   "execution_count": null,
   "metadata": {},
   "outputs": [],
   "source": [
    "from llama_index.llms.llama_cpp import LlamaCPP\n",
    "import guidance\n",
    "llm = guidance.models.LlamaCppChat(\"/home/dorota/models/mistral-7b-instruct-v0.2.Q6_K.gguf\", n_gpu_layers=10,  n_ctx=0)\n",
    "\n",
    "# llm has to be a guidance model and LlamaCppChat, not just LlamaCPP"
   ]
  },
  {
   "cell_type": "code",
   "execution_count": null,
   "metadata": {},
   "outputs": [],
   "source": [
    "from llama_index.program.guidance import GuidancePydanticProgram\n",
    "from pypdf import PdfReader \n",
    "  \n",
    "reader = PdfReader('/home/dorota/LLM-diploma-project/00_concept_tests/data/40001_2023_Article_1364.pdf') \n",
    "num_pages = len(reader.pages)\n",
    "TEXT = \"\"\n",
    "for page_num in range(1): #change to range(num_pages) for whole document\n",
    "    page = reader.pages[page_num]  \n",
    "    TEXT += page.extract_text()\n",
    "\n",
    "\n",
    "program = GuidancePydanticProgram(\n",
    "    output_cls=NodeMetadata,\n",
    "    prompt_template_str=(\n",
    "        \"\"\"\\\n",
    "        Here is the content of the section:\n",
    "        ----------------\n",
    "        {{query_str}}\n",
    "        ----------------\n",
    "        Given the contextual information, extract a pydantic object.\\\n",
    "        \"\"\"\n",
    "    ),\n",
    "    guidance_llm=llm,\n",
    "    verbose=True,\n",
    ")\n",
    "\n",
    "output = program(query_str=TEXT, tools_str='')\n",
    "\n",
    "# OutputParserException: Failed to parse pydantic object from guidance program. Probably the LLM failed to produce data with right json schema"
   ]
  }
 ],
 "metadata": {
  "kernelspec": {
   "display_name": "venv",
   "language": "python",
   "name": "python3"
  },
  "language_info": {
   "codemirror_mode": {
    "name": "ipython",
    "version": 3
   },
   "file_extension": ".py",
   "mimetype": "text/x-python",
   "name": "python",
   "nbconvert_exporter": "python",
   "pygments_lexer": "ipython3",
   "version": "3.10.12"
  }
 },
 "nbformat": 4,
 "nbformat_minor": 2
}
